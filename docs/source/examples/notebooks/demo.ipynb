{
 "cells": [
  {
   "cell_type": "code",
   "execution_count": null,
   "outputs": [],
   "source": [
    "# Check pyhf-benchmark version"
   ],
   "metadata": {
    "collapsed": false,
    "pycharm": {
     "name": "#%%\n"
    }
   }
  },
  {
   "cell_type": "code",
   "execution_count": 33,
   "metadata": {},
   "outputs": [
    {
     "name": "stdout",
     "output_type": "stream",
     "text": [
      "pyhf-benchmark, version 0.0.1\n"
     ]
    }
   ],
   "source": [
    "pyhf-benchmark --version"
   ]
  },
  {
   "cell_type": "code",
   "execution_count": null,
   "metadata": {},
   "outputs": [],
   "source": [
    "# Test performance of CPU for maximum likelihood computation using numpy backend"
   ]
  },
  {
   "cell_type": "code",
   "execution_count": 1,
   "metadata": {
    "pycharm": {
     "is_executing": true
    }
   },
   "outputs": [
    {
     "name": "stdout",
     "output_type": "stream",
     "text": [
      "Dataset: 1Lbb-likelihoods-hepdata\n",
      "Backend set to: numpy\n",
      "\n",
      "Starting fit\n",
      "\n",
      "fit 1Lbb-likelihoods-hepdata in 0:00:22.935410 seconds\n",
      "\n",
      "CLs_obs: 0.06628434618085545\n",
      "CLs_exp: [9.517591120621866e-05, 0.0010228903813534387, 0.00946311787745848, 0.06581424960195661, 0.28239514754522566]\n"
     ]
    }
   ],
   "source": [
    "pyhf-benchmark run -c mle -b numpy -u https://www.hepdata.net/record/resource/1267798?view=true -m [750,100]"
   ]
  },
  {
   "cell_type": "code",
   "execution_count": 3,
   "metadata": {},
   "outputs": [
    {
     "name": "stdout",
     "output_type": "stream",
     "text": [
      "run_20200817_1597677709\n"
     ]
    }
   ],
   "source": [
    "cd output/\n",
    "ls"
   ]
  },
  {
   "cell_type": "code",
   "execution_count": 9,
   "metadata": {},
   "outputs": [
    {
     "name": "stdout",
     "output_type": "stream",
     "text": [
      "1Lbb-likelihoods-hepdata_mle_numpy\n"
     ]
    }
   ],
   "source": [
    "cd run_20200817_1597677709\n",
    "ls"
   ]
  },
  {
   "cell_type": "code",
   "execution_count": 11,
   "metadata": {},
   "outputs": [
    {
     "name": "stdout",
     "output_type": "stream",
     "text": [
      "CPU_Threads.png\t\t\tProc_Memory_MB.png\n",
      "CPU_Utilization.png\t\tProc_Memory_Percent.png\n",
      "Disk_IO_Utilization.png\t\tProc_Memory_available.png\n",
      "Memory_Utilization.png\t\tevents.jsonl\n",
      "Network_Traffic.png\n"
     ]
    }
   ],
   "source": [
    "cd 1Lbb-likelihoods-hepdata_mle_numpy\n",
    "ls"
   ]
  },
  {
   "cell_type": "code",
   "execution_count": null,
   "metadata": {},
   "outputs": [],
   "source": [
    "# Test performance of CPU for maximum likelihood computation using numpy, jax, tensorflow and pytorch backends"
   ]
  },
  {
   "cell_type": "code",
   "execution_count": 16,
   "metadata": {},
   "outputs": [
    {
     "name": "stdout",
     "output_type": "stream",
     "text": [
      "Dataset: 1Lbb-likelihoods-hepdata\n",
      "Backend set to: numpy\n",
      "\n",
      "Starting fit\n",
      "\n",
      "fit 1Lbb-likelihoods-hepdata in 0:00:22.913646 seconds\n",
      "\n",
      "CLs_obs: 0.06628434618085545\n",
      "CLs_exp: [9.517591120621866e-05, 0.0010228903813534387, 0.00946311787745848, 0.06581424960195661, 0.28239514754522566]\n",
      "Backend set to: jax\n",
      "\n",
      "Starting fit\n",
      "\n",
      "fit 1Lbb-likelihoods-hepdata in 0:00:21.528265 seconds\n",
      "\n",
      "CLs_obs: 0.0662840218994314\n",
      "CLs_exp: [9.516724344736203e-05, 0.0010228157686477024, 0.009462595024861676, 0.06581172517487545, 0.2823886518706529]\n",
      "Backend set to: tensorflow\n",
      "\n",
      "Starting fit\n",
      "\n",
      "WARNING:tensorflow:From /opt/anaconda3/lib/python3.7/site-packages/tensorflow/python/ops/array_grad.py:644: _EagerTensorBase.cpu (from tensorflow.python.framework.ops) is deprecated and will be removed in a future version.\n",
      "Instructions for updating:\n",
      "Use tf.identity instead.\n",
      "WARNING:tensorflow:From /opt/anaconda3/lib/python3.7/site-packages/tensorflow/python/ops/math_grad.py:297: setdiff1d (from tensorflow.python.ops.array_ops) is deprecated and will be removed after 2018-11-30.\n",
      "Instructions for updating:\n",
      "This op will be removed after the deprecation date. Please switch to tf.sets.difference().\n",
      "fit 1Lbb-likelihoods-hepdata in 0:00:12.043619 seconds\n",
      "\n",
      "CLs_obs: 0.0662931278347969\n",
      "CLs_exp: [9.5105112e-05 1.0222825e-03 9.4588548e-03 6.5793678e-02 2.8234217e-01]\n",
      "Backend set to: pytorch\n",
      "\n",
      "Starting fit\n",
      "\n",
      "fit 1Lbb-likelihoods-hepdata in 0:00:05.200849 seconds\n",
      "\n",
      "CLs_obs: 0.0662882849574089\n",
      "CLs_exp: [9.481733286520466e-05, 0.001019802875816822, 0.009441475383937359, 0.06570970267057419, 0.2821260690689087]\n"
     ]
    }
   ],
   "source": [
    "pyhf-benchmark run -c mle -b [numpy,jax,tensorflow,pytorch] -u https://www.hepdata.net/record/resource/1267798?view=true -m [750,100]"
   ]
  },
  {
   "cell_type": "code",
   "execution_count": 17,
   "metadata": {},
   "outputs": [
    {
     "name": "stdout",
     "output_type": "stream",
     "text": [
      "run_20200817_1597677709\trun_20200817_1597678017\n"
     ]
    }
   ],
   "source": [
    "cd output/\n",
    "ls"
   ]
  },
  {
   "cell_type": "code",
   "execution_count": 18,
   "metadata": {},
   "outputs": [
    {
     "name": "stdout",
     "output_type": "stream",
     "text": [
      "1Lbb-likelihoods-hepdata_mle_jax\tDisk_IO_Utilization.png\n",
      "1Lbb-likelihoods-hepdata_mle_numpy\tMemory_Utilization.png\n",
      "1Lbb-likelihoods-hepdata_mle_pytorch\tNetwork_Traffic.png\n",
      "1Lbb-likelihoods-hepdata_mle_tensorflow\tProc_Memory_MB.png\n",
      "CPU_Threads.png\t\t\t\tProc_Memory_Percent.png\n",
      "CPU_Utilization.png\t\t\tProc_Memory_available.png\n"
     ]
    }
   ],
   "source": [
    "cd run_20200817_1597678017\n",
    "ls"
   ]
  },
  {
   "cell_type": "code",
   "execution_count": null,
   "metadata": {},
   "outputs": [],
   "source": [
    "# Test performance of CPU for interpolation computation using numpy backend"
   ]
  },
  {
   "cell_type": "code",
   "execution_count": 22,
   "metadata": {},
   "outputs": [],
   "source": [
    "pyhf-benchmark run -c interpolation -b numpy -n 0 -mm slow"
   ]
  },
  {
   "cell_type": "code",
   "execution_count": 31,
   "metadata": {},
   "outputs": [
    {
     "name": "stdout",
     "output_type": "stream",
     "text": [
      "run_20200817_1597677709\trun_20200817_1597678017\trun_20200817_1597678299\n"
     ]
    }
   ],
   "source": [
    "cd output/\n",
    "ls"
   ]
  },
  {
   "cell_type": "code",
   "execution_count": 32,
   "metadata": {},
   "outputs": [
    {
     "name": "stdout",
     "output_type": "stream",
     "text": [
      "Random_interpolation_numpy\n"
     ]
    }
   ],
   "source": [
    "cd run_20200817_1597678299\n",
    "ls"
   ]
  }
 ],
 "metadata": {
  "kernelspec": {
   "name": "python3",
   "language": "python",
   "display_name": "Python 3"
  },
  "language_info": {
   "codemirror_mode": "shell",
   "file_extension": ".sh",
   "mimetype": "text/x-sh",
   "name": "bash"
  },
  "pycharm": {
   "stem_cell": {
    "cell_type": "raw",
    "source": [
     "Demo\n",
     "=============="
    ],
    "metadata": {
     "collapsed": false
    }
   }
  }
 },
 "nbformat": 4,
 "nbformat_minor": 1
}